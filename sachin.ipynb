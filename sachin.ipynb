{
 "cells": [
  {
   "cell_type": "code",
   "execution_count": 1,
   "id": "44b942dc",
   "metadata": {},
   "outputs": [
    {
     "name": "stdout",
     "output_type": "stream",
     "text": [
      "Successfully the mail is sent\n"
     ]
    },
    {
     "data": {
      "text/plain": [
       "(221, b'2.0.0 closing connection x33sm17087434pfh.133 - gsmtp')"
      ]
     },
     "execution_count": 1,
     "metadata": {},
     "output_type": "execute_result"
    }
   ],
   "source": [
    "#Importing SMTP Liberary allow to send Mail\n",
    "import smtplib\n",
    "\n",
    "#sending the mail and protocol is used as SMTP\n",
    "sender_add='basavakiran5699@gmail.com'\n",
    "\n",
    "#Receiving the mail and protcol is used as POST Office Protocol and Internet Message Access Protocol\n",
    "receiver_add='ajaykumarwade@gmail.com'\n",
    "\n",
    "#Write the password as sender mail\n",
    "password='channu 123'\n",
    "\n",
    "#SMTP Protocol and Mail Server address and port number added\n",
    "smtp_server=smtplib.SMTP(\"smtp.gmail.com\",587)\n",
    "\n",
    "#elho is the hostname to identify itself\n",
    "smtp_server.ehlo()\n",
    "smtp_server.starttls() \n",
    "smtp_server.ehlo()\n",
    "\n",
    "#logining into sender EmailID\n",
    "smtp_server.login(sender_add,password) \n",
    "msg_to_be_sent ='''\n",
    "Hello, receiver!\n",
    "Hope you are doing well.\n",
    "'''\n",
    "#Sending the Mail and Message\n",
    "smtp_server.sendmail(sender_add,receiver_add,msg_to_be_sent)\n",
    "\n",
    "#Printing on message sending to the Mail\n",
    "print('Successfully the mail is sent')\n",
    "\n",
    "#Close the server\n",
    "smtp_server.quit()"
   ]
  },
  {
   "cell_type": "code",
   "execution_count": null,
   "id": "aefdd0e3",
   "metadata": {},
   "outputs": [],
   "source": []
  }
 ],
 "metadata": {
  "kernelspec": {
   "display_name": "Python 3",
   "language": "python",
   "name": "python3"
  },
  "language_info": {
   "codemirror_mode": {
    "name": "ipython",
    "version": 3
   },
   "file_extension": ".py",
   "mimetype": "text/x-python",
   "name": "python",
   "nbconvert_exporter": "python",
   "pygments_lexer": "ipython3",
   "version": "3.8.8"
  }
 },
 "nbformat": 4,
 "nbformat_minor": 5
}
